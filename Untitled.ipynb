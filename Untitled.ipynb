{
 "cells": [
  {
   "cell_type": "code",
   "execution_count": 113,
   "metadata": {},
   "outputs": [],
   "source": [
    "import os\n",
    "call='.item-'\n",
    "url='background:url('\n",
    "opts=['background-repeat: no-repeat;','background-position: center;','background-size: contain;']\n",
    "\n",
    "page='desks'\n",
    "title='Desk Projects'\n",
    "prefix='\\'/about/portfolio/images/'+str(page)\n",
    "direct_css=str(page)+'_carousel.css'\n",
    "direct_html=str(page)+'.html'\n",
    "\n",
    "preamble=[]\n",
    "with open('carousel_base.css','r') as g:\n",
    "    preamble=g.readlines()\n",
    "\n",
    "html_preamble=[]\n",
    "with open('carousel_preamble.html','r') as g:\n",
    "    html_preamble=g.readlines()\n",
    "\n",
    "html_preamble[8]='\\t\\t<title>'+str(title)+'</title>\\n'\n",
    "html_preamble[12]='\\t\\t<link rel=\"stylesheet\" href=\"assets/css/'+str(page)+'_carousel.css\" />\\n'\n",
    "\n",
    "html_footer=[]\n",
    "with open('carousel_footer.html','r') as g:\n",
    "    html_footer=g.readlines()\n",
    "\n",
    "html_header='<h1 style=\"text-align:center\">'+str(page)+'</h1>\\n'\n",
    "\n",
    "carousel_div='<div class=\"carousel-item item-'\n",
    "carousel_wrap='<div class=\"carousel-wrapper\">\\n'\n",
    "carousel_arrp='<a class=\"arrow arrow-prev\" href=\"#item-'\n",
    "carousel_arrn='<a class=\"arrow arrow-next\" href=\"#item-'\n",
    "post='*:target ~ .item-1 {\\n opacity: 0;\\n }\\n\\n'\n",
    "item1='#item-1:target ~ .item-1 {\\n opacity: 1;\\n }\\n\\n'"
   ]
  },
  {
   "cell_type": "code",
   "execution_count": 114,
   "metadata": {},
   "outputs": [],
   "source": [
    "images=os.listdir('about/portfolio/images/'+str(page))"
   ]
  },
  {
   "cell_type": "code",
   "execution_count": 115,
   "metadata": {},
   "outputs": [],
   "source": [
    "with open(direct_css,'w') as f:\n",
    "    f.writelines(preamble)\n",
    "    \n",
    "    f.writelines(call+str(1)+'{\\n')\n",
    "    f.writelines(str(url)+str(prefix)+str(images[0])+'\\');\\n')\n",
    "    f.writelines('\\t z-index:2;\\n opacity: 1;\\n')\n",
    "    for j in opts:\n",
    "        f.writelines(j+str('\\n'))\n",
    "    f.writelines('}\\n\\n')\n",
    "    \n",
    "    \n",
    "    for i in range(2,len(images)):\n",
    "        f.writelines(call+str(i)+'{\\n')\n",
    "        f.writelines(str(url)+str(prefix)+str(images[i-1])+'\\');\\n')\n",
    "        for j in opts:\n",
    "            f.writelines(j+str('\\n'))\n",
    "        f.writelines('}\\n\\n')\n",
    "    f.writelines(post)\n",
    "    f.writelines(item1)\n",
    "    \n",
    "    \n",
    "    for i in range(2,len(images)-1):\n",
    "        f.writelines('#item-'+str(i)+':target ~ .item-'+str(i)+', ')\n",
    "    f.writelines('#item-'+str(len(images)-1)+':target ~ .item-'+str(len(images)-1)+' ')\n",
    "    f.writelines('{\\n')\n",
    "    f.writelines('\\t z-index: 3;\\n')\n",
    "    f.writelines('\\t opacity: 1;\\n')\n",
    "    f.writelines('}\\n')"
   ]
  },
  {
   "cell_type": "code",
   "execution_count": 117,
   "metadata": {},
   "outputs": [],
   "source": [
    "with open(direct_html,'w') as f:\n",
    "    f.writelines(html_preamble)\n",
    "    f.writelines(html_header)\n",
    "    f.writelines(carousel_wrap)\n",
    "    \n",
    "    for i in range(1,len(images)):\n",
    "        f.writelines('\\t<span id=\"item-'+str(i)+'\"></span>\\n')\n",
    "        \n",
    "    f.writelines(carousel_div+str(1)+'\">\\n')\n",
    "    f.writelines(carousel_arrp+str(len(images)-1)+'\"></a>\\n')\n",
    "    f.writelines(carousel_arrn+str(2)+'\"></a>\\n')\n",
    "    f.writelines('</div>\\n\\n')\n",
    "\n",
    "    for i in range(2,len(images)-1):\n",
    "        f.writelines(carousel_div+str(i)+'\">\\n')\n",
    "        f.writelines(carousel_arrp+str(i-1)+'\"></a>\\n')\n",
    "        f.writelines(carousel_arrn+str(i+1)+'\"></a>\\n')\n",
    "        f.writelines('</div>\\n\\n')\n",
    "        \n",
    "    f.writelines(carousel_div+str(len(images)-1)+'\">\\n')\n",
    "    f.writelines(carousel_arrp+str(len(images)-2)+'\"></a>\\n')\n",
    "    f.writelines(carousel_arrn+str(1)+'\"></a>\\n')\n",
    "    f.writelines('</div>\\n</div>\\n\\n')\n",
    "    f.writelines(html_footer)"
   ]
  },
  {
   "cell_type": "code",
   "execution_count": null,
   "metadata": {},
   "outputs": [],
   "source": []
  }
 ],
 "metadata": {
  "kernelspec": {
   "display_name": "Python 3",
   "language": "python",
   "name": "python3"
  },
  "language_info": {
   "codemirror_mode": {
    "name": "ipython",
    "version": 3
   },
   "file_extension": ".py",
   "mimetype": "text/x-python",
   "name": "python",
   "nbconvert_exporter": "python",
   "pygments_lexer": "ipython3",
   "version": "3.7.3"
  }
 },
 "nbformat": 4,
 "nbformat_minor": 4
}
